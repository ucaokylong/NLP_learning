{
  "cells": [
    {
      "cell_type": "markdown",
      "metadata": {
        "id": "view-in-github",
        "colab_type": "text"
      },
      "source": [
        "<a href=\"https://colab.research.google.com/github/ucaokylong/NLP_learning/blob/main/10_Transformers.ipynb\" target=\"_parent\"><img src=\"https://colab.research.google.com/assets/colab-badge.svg\" alt=\"Open In Colab\"/></a>"
      ]
    },
    {
      "cell_type": "markdown",
      "id": "f5358020",
      "metadata": {
        "_cell_guid": "b1076dfc-b9ad-4769-8c92-a6c4dae69d19",
        "_uuid": "8f2839f25d086af736a60e9eeb907d3b93b6e0e5",
        "papermill": {
          "duration": 0.011249,
          "end_time": "2023-02-21T10:07:58.348366",
          "exception": false,
          "start_time": "2023-02-21T10:07:58.337117",
          "status": "completed"
        },
        "tags": [],
        "id": "f5358020"
      },
      "source": [
        "<center>\n",
        "<img src='https://github.com/JUSTSUJAY/NLP_One_Shot/blob/main/assets/1/lang-pic.jpg?raw=1' width=600>\n",
        "</center>\n",
        "    \n",
        "# 1. Introduction\n",
        "\n",
        "## <p style=\"font-family:JetBrains Mono; font-weight:normal; letter-spacing: 1px; color:#207d06; font-size:100%; text-align:left;padding: 0px; border-bottom: 3px solid #207d06;\">1.1 NLP series</p>\n",
        "\n",
        "This is the **tenth in a series of notebooks** covering the **fundamentals of Natural Language Processing (NLP)**. I find that the best way to learn is by teaching others, hence why I am sharing my journey learning this field from scratch. I hope these notebooks can be helpful to you too.\n",
        "\n",
        "NLP series:\n",
        "\n",
        "1. [Tokenization](./01_Tokenization.ipynb)\n",
        "2. [Preprocessing](./02_Pre_Processing.ipynb)\n",
        "3. [Bag of Words and Similarity](./03_BOW_Similarity.ipynb)\n",
        "4. [TF-IDF and Document Search](./04_TFIDF_DocSearch.ipynb)\n",
        "5. [Naive Bayes Text Classification](./05_NaiveBayes_TextClf.ipynb)\n",
        "6. [LDA Topic Modelling](./06_LDA_TopicModelling.ipynb)\n",
        "7. [Word Embeddings](./07_Word_Embeddings.ipynb)\n",
        "8. [Recurrent Neural Networks (RNNs) and Language Modelling](./08_RNNs_LMs.ipynb)\n",
        "9. [Machine Translation and Attention](./09_Machine_Translation_Attention.ipynb)\n",
        "10. Transformers\n",
        "<a target=\"_blank\" href=\"https://colab.research.google.com/github/JUSTSUJAY/NLP_One_Shot/blob/main/Notebooks/10_Transformers.ipynb\">\n",
        "  <img src=\"https://colab.research.google.com/assets/colab-badge.svg\" alt=\"Open In Colab\"/>\n",
        "</a>\n",
        "[![Kaggle](https://kaggle.com/static/images/open-in-kaggle.svg)](https://kaggle.com/kernels/welcome?src=https://github.com/JUSTSUJAY/NLP_One_Shot/blob/main/Notebooks/10_Transformers.ipynb)\n",
        "\n",
        "## <p style=\"font-family:JetBrains Mono; font-weight:normal; letter-spacing: 1px; color:#207d06; font-size:100%; text-align:left;padding: 0px; border-bottom: 3px solid #207d06;\">1.2 Outline</p>\n",
        "\n",
        "This is the **final notebook** in the NLP series! By now we've covered all the fundamental tasks and models in NLP and are ready to learn about the current **state-of-the-art transformer model**.\n",
        "\n",
        "This model originates from the 2017 [Attention Is All You Need](https://arxiv.org/abs/1706.03762) paper and still **dominates** the field of NLP today. For example, you've probably heard of the **conversational AI ChatGPT** by OpenAI - well this is based on the transformer model (GPT = Generative Pre-trained *Transformer*)!\n",
        "\n",
        "In this notebook, we are going to go through **what a transformer is**, **build one from scratch** and then **download a pre-trained model from hugging face and fine-tune it** for a text classification problem."
      ]
    },
    {
      "cell_type": "markdown",
      "id": "3b90c7c3",
      "metadata": {
        "papermill": {
          "duration": 0.00785,
          "end_time": "2023-02-21T10:07:58.364813",
          "exception": false,
          "start_time": "2023-02-21T10:07:58.356963",
          "status": "completed"
        },
        "tags": [],
        "id": "3b90c7c3"
      },
      "source": [
        "# 2. The Transformer\n",
        "\n",
        "## <p style=\"font-family:JetBrains Mono; font-weight:normal; letter-spacing: 1px; color:#207d06; font-size:100%; text-align:left;padding: 0px; border-bottom: 3px solid #207d06;\">2.1 Subword Tokenization</p>\n",
        "\n",
        "Before we go through the model architecture, let's briefly talk about **tokenization**. So far we've mostly used **word level tokenization**. This is very effective because each word already carries a lot of informatino, however a down side is that it cannot handle **Out-Of-Vocabulary** (OOV) words. On the other hand there is **character level tokenization**, which can handle OOV words but needs to learn how to spell words correctly.\n",
        "\n",
        "For the transformer, a **subword level tokenization** approach was used that takes the best of both worlds. The idea is to tokenize **common words** as they appear but break down rarer words into **subwords**. This is both efficient in that it retains the meaning of the most frequent words but can also handle OOV words by breaking them down into subwords.\n",
        "\n",
        "<br>\n",
        "<center>\n",
        "<img src=\"https://github.com/JUSTSUJAY/NLP_One_Shot/blob/main/assets/10/subword-tokenization.jpg?raw=1\" width=600>\n",
        "</center>\n",
        "<br>\n",
        "\n",
        "One algorithm used to figure out which words to keep and which to break down is called **Byte Pair Encoding** (BPE). This is a **data compression technique** that iteratively builds a vocabulary by **merging** the most frequent subwords that appear in the corpus. Alternatives to BPE include **Wordpiece** (used by BERT) and **Sentencepiece**, which work in the opposite direction, i.e. first tokenize words/sentences and then break these down into subwords.\n",
        "\n",
        "<br>\n",
        "\n",
        "## <p style=\"font-family:JetBrains Mono; font-weight:normal; letter-spacing: 1px; color:#207d06; font-size:100%; text-align:left;padding: 0px; border-bottom: 3px solid #207d06;\">2.2 Non-Recurrence</p>\n",
        "\n",
        "In the last two notebooks we saw how Recurrent Neural Networks (RNNs) **process text sequentially** via cells and hidden states. When they were first developed, researchers quickly noticed that they were **very slow** to train because calculations **couldn't be parallelized**. This is simply because each cell needed the hidden state of the **previous** cell before being able to produce its own hidden state.\n",
        "\n",
        "This is where transformers come in. The groundbreaking idea in the *Attention is All You Need* paper was to completely **get rid of recurrence** in RNNs and instead use **all the inputs** to work out each output. They exact way this is done is called the **self attention mechanism**, which we will soon cover.\n",
        "\n",
        "This was an amazing **breakthrough** because it allowed for much **faster, parallelized training** across many GPUs.\n",
        "\n",
        "<br>\n",
        "\n",
        "## <p style=\"font-family:JetBrains Mono; font-weight:normal; letter-spacing: 1px; color:#207d06; font-size:100%; text-align:left;padding: 0px; border-bottom: 3px solid #207d06;\">2.3 Self Attention</p>\n",
        "\n",
        "Recall when we previously came across attention, the inputs were dotted together to create attention weights by passing these scores through a softmax. The weights were then used in a linear combination of the inputs to create the attention vector.\n",
        "\n",
        "In the transformer, attention works in a similar way. The main difference is that the input is first multiplied by 3 matrices, $Q, K, V$ called the **query, key and value matrices** that act as **additional learnable parameters** than just the input embeddings. The intution is that a query is made against the key (like in a database), which is then used to select the appropriate value.\n",
        "\n",
        "<br>\n",
        "<center>\n",
        "<img src=\"https://github.com/JUSTSUJAY/NLP_One_Shot/blob/main/assets/10/selfattention.jpg?raw=1\" width=600>\n",
        "</center>\n",
        "<br>\n",
        "\n",
        "The **vectorized formula** is given by\n",
        "\n",
        "<br>\n",
        "\n",
        "$$\n",
        "\\Large\n",
        "\\text{Attention}(Q,K,V) = \\text{softmax}\\left(\\frac{QK^T}{\\sqrt{d_k}}\\right)V\n",
        "$$\n",
        "\n",
        "<br>\n",
        "\n",
        "What this is doing, is taking the **dot product** of all the query and key vectors (at the same time via matrix multiplication) and **scaling** these by the square root of the key $d_k$ size to normalize for different sequence lengths. The resulting scores are then passed through a **softmax** (applied row-wise) to create weights that sum to 1, which are used in a **linear combination** with the value vectors to output the attention vectors.\n",
        "\n",
        "This calculation is repeated for each time step, using the **same** Q, K and V matrices. Since the entire output is another sequence, it is common to **stack multiple attention layers** on top of each other. What we have described up to now is a **single attention head**.\n",
        "\n",
        "<br>\n",
        "\n",
        "## <p style=\"font-family:JetBrains Mono; font-weight:normal; letter-spacing: 1px; color:#207d06; font-size:100%; text-align:left;padding: 0px; border-bottom: 3px solid #207d06;\">2.4 Multi-Head Self Attention</p>\n",
        "\n",
        "A single attention head will only be able to focus on a single aspect of how words related to each other in a sentence. But we know there are **multiple questions** we can ask when we read a sentence, for example, who, where what, when, why etc.\n",
        "\n",
        "For this reason, the transformer uses **multiple attention heads**, i.e. there are multiple sets of Q, K and V matrices that can each learn different relationships on their own in each layer.\n",
        "\n",
        "<br>\n",
        "<center>\n",
        "<img src=\"https://github.com/JUSTSUJAY/NLP_One_Shot/blob/main/assets/10/multiheadattention.png?raw=1\" width=250>\n",
        "</center>\n",
        "<br>\n",
        "\n",
        "TO balance the additional **computational complexity**, if there are $h$ heads then the Q, K, V matrices have their embedding dimensions divided by $h$, i.e. the number of columns is divided by $h$. This means the total **number of learnable parameters stays the same**, which is allows for more complex relationships to be learnt at a comparable speed to before.\n",
        "\n",
        "The output of each head is **concatenated** and passed through a **fully connected layer** for further processing. The nice thing to remain is that the input and outputs share exactly the **same dimension**, so it is easy to stack multiple layers on top of each other for better performance.\n",
        "\n",
        "In the original transformer, the embedding dimension (aka **model dimension**) was $d_{\\text{model}}=512$ and **8 attention heads** were used, so that each head had a dimension of 512/8 = 64.\n",
        "\n",
        "<br>\n",
        "\n",
        "## <p style=\"font-family:JetBrains Mono; font-weight:normal; letter-spacing: 1px; color:#207d06; font-size:100%; text-align:left;padding: 0px; border-bottom: 3px solid #207d06;\">2.5 Positional Encoding</p>\n",
        "\n",
        "By removing recurrence, we have gained the ability to parallelize computations but this has come at the cost of **losing word order information**. At the moment, if we change the order of the input words we would get the same corresponding outputs but this is not how language works!\n",
        "\n",
        "So we need a way to tell our model that **word order is important**. In the original paper, this was done by **adding a vector** to the input embeddings before the attention layer was computed. This positional encoding vector followed the following **sinusoidal equations**\n",
        "\n",
        "<br>\n",
        "\n",
        "$$\n",
        "\\text{PE}_{(pos, 2i)} = \\sin(pos/10000^{2i/d_{\\text{model}}}) \\\\\n",
        "\\text{PE}_{(pos, 2i+1)} = \\cos(pos/10000^{2i/d_{\\text{model}}})\n",
        "$$\n",
        "\n",
        "<br>\n",
        "\n",
        "where $pos$ is the position and $i$ is the dimension.\n",
        "\n",
        "There are **two equations**, one for even dimensions and one for odd dimensions. The idea is that each dimension has its own **unique** sinusoidal function and each word in the sequence gets a different value depending on its position.\n",
        "\n",
        "<br>\n",
        "<center>\n",
        "<img src=\"https://github.com/JUSTSUJAY/NLP_One_Shot/blob/main/assets/10/positionalencoding.png?raw=1\" width=600>\n",
        "</center>\n",
        "<br>\n",
        "\n",
        "The allows the transformer to learn **positional information** about each input sequence. Don't worry about where the 10,000 comes from - it is quite arbitrary.\n",
        "\n",
        "Note that nowaways it is more common to use a **learnable positional embedding** to apply a positional encoding instead of these sinusoidal curves. This works exactly the same as word embeddings where the model **learns** the best word order representations using **backpropagation**.\n",
        "\n",
        "<br>\n",
        "\n",
        "## <p style=\"font-family:JetBrains Mono; font-weight:normal; letter-spacing: 1px; color:#207d06; font-size:100%; text-align:left;padding: 0px; border-bottom: 3px solid #207d06;\">2.6 Architecture</p>\n",
        "\n",
        "We've now got all the pieces we need to understand the transformer architecture. The model is split into an **encoder and a decoder**. The encoder processes the input into some representation which the decoder uses to produce an output.\n",
        "\n",
        "We've already discussed how the inputs are first passed through an **embeddding layer** and combined with a **positional encoding** before being going through the first **encoder block**.\n",
        "\n",
        "The encoder block is made up of a **multi-head attention layer** followed by a two layered **feed forward neural network** applied pointwise. In the paper, the dimensions of the layers were 512 for the input layer, 2048 for the hidden layer and 512 for the output layer. Furthermore, the encoder was made up of **6 encoder blocks** stacked on top of each other.\n",
        "\n",
        "<br>\n",
        "<center>\n",
        "<img src=\"https://github.com/JUSTSUJAY/NLP_One_Shot/blob/main/assets/10/transformer.jpg?raw=1\" width=350>\n",
        "</center>\n",
        "<br>\n",
        "\n",
        "Because of the very deep architecture of the model, a couple additional tricks were used in training to stabilize the output. These were **layer normalization** and **skip connections**. Layer normalization is similar to batch normalization however instead of normalizing across each batch, it **normalizes across each layer** output making it easier to parallelize.\n",
        "\n",
        "Skip connections are a **technique from computer vision** that add the input of a layer to the output of following layer. This makes it **easier to train** very deep networks because the model can learn the **identity function** and pass information between layers more easily. In the original paper, these techniques were placed after each attention/feed forward layer however it is more common today to place them **before** these layers.\n",
        "\n",
        "The **decoder** works in a similar to the encoder but with some key differences. It starts with a **masked multi-head attention layer** because it won't be able to see into the future at inference time. For example, if we are doing translation then the decoder should only be using words that it has already translated so far.\n",
        "\n",
        "After that, just like in the decoder a **multi-head attention layer** and a **feed forward neural network** is used after that. The only difference is that the **keys and values matrices** from the encoder are used in the decoder attention layer. Again **6 decoder blocks** were used in the original paper. Finally, this is passed through a **linear layer** followed by a **softmax** to generate the outputs.\n",
        "\n",
        "<br>\n",
        "\n",
        "## <p style=\"font-family:JetBrains Mono; font-weight:normal; letter-spacing: 1px; color:#207d06; font-size:100%; text-align:left;padding: 0px; border-bottom: 3px solid #207d06;\">2.7 Variants</p>\n",
        "\n",
        "Quickly after the original paper came out, a whole host of **different transformers** were released. These can be categorized into **encoder only** (e.g. BERT), **decoder only** (e.g. GPT) and **encoder-decoder** (e.g. T5). Let's briefly discuss the main models and see how they are different to each other.\n",
        "\n",
        "<br>\n",
        "<center>\n",
        "<img src=\"https://github.com/JUSTSUJAY/NLP_One_Shot/blob/main/assets/10/transformer-groups.png?raw=1\" width=500>\n",
        "</center>\n",
        "<br>\n",
        "\n",
        "**BERT** stands for Bidirectional Encoder Representations from Transformers and has up to **340 million parameters**. It was trained by a team at Google using **masked language modelling**, i.e. guess the missing word in a sentence.\n",
        "\n",
        "**DistilBERT** is a distilled version of BERT that achives 97% performance of BERT while being **60% faster**. It can be used for text classification and sequence labelling tasks.\n",
        "\n",
        "**RoBERTa** is similar to BERT but was trained for much longer and with better design choices. It significantly **exceeded the performance** of BERT on some tasks.\n",
        "\n",
        "**XLM** is a **cross-lingual language model** variant of BERT that smashed several benchmarks on multilingual and translation tasks.\n",
        "\n",
        "**ALBERT** is an optimized version of BERT that used **fewer parameters** thus making it possible to train larger models with fewer parameters.\n",
        "\n",
        "**GPT** stands for Generative Pre-trained Transformer and is a family of decoder only transformers developed by OpenAI and used for **text generation** tasks. These were trained on **next word prediction** and are able to produce coherent text thanks to its enormous model size (GPT-3 has **175 billion parameters**!).\n",
        "\n",
        "**T5** is a high-performing encoder-decoder transformer based on the original paper and is used for **sequence-to-sequence tasks**.  "
      ]
    },
    {
      "cell_type": "markdown",
      "id": "2d75dd39",
      "metadata": {
        "papermill": {
          "duration": 0.007946,
          "end_time": "2023-02-21T10:07:58.381019",
          "exception": false,
          "start_time": "2023-02-21T10:07:58.373073",
          "status": "completed"
        },
        "tags": [],
        "id": "2d75dd39"
      },
      "source": [
        "# 3. Application\n",
        "\n",
        "## <p style=\"font-family:JetBrains Mono; font-weight:normal; letter-spacing: 1px; color:#207d06; font-size:100%; text-align:left;padding: 0px; border-bottom: 3px solid #207d06;\">3.1 Transformers from scratch</p>\n",
        "\n",
        "To reinforce our understanding of transformers, lets write the code to **implement one from scratch**. We wont't be able to train it on our own but we will later see how was can use **transfer learning** to fine tuning a pre-trained transformer for our applications.\n",
        "\n",
        "* Sentiment Analysis Company Reviews - [Link](https://www.kaggle.com/competitions/sentiment-analysis-company-reviews/code)"
      ]
    },
    {
      "cell_type": "markdown",
      "id": "a873257c",
      "metadata": {
        "papermill": {
          "duration": 0.008096,
          "end_time": "2023-02-21T10:07:58.399554",
          "exception": false,
          "start_time": "2023-02-21T10:07:58.391458",
          "status": "completed"
        },
        "tags": [],
        "id": "a873257c"
      },
      "source": [
        "**Libraries**"
      ]
    },
    {
      "cell_type": "code",
      "execution_count": null,
      "id": "c59e192c",
      "metadata": {
        "execution": {
          "iopub.execute_input": "2023-02-21T10:07:58.417425Z",
          "iopub.status.busy": "2023-02-21T10:07:58.416947Z",
          "iopub.status.idle": "2023-02-21T10:08:04.638738Z",
          "shell.execute_reply": "2023-02-21T10:08:04.637717Z"
        },
        "papermill": {
          "duration": 6.233528,
          "end_time": "2023-02-21T10:08:04.641313",
          "exception": false,
          "start_time": "2023-02-21T10:07:58.407785",
          "status": "completed"
        },
        "tags": [],
        "id": "c59e192c"
      },
      "outputs": [],
      "source": [
        "import numpy as np\n",
        "import tensorflow as tf"
      ]
    },
    {
      "cell_type": "markdown",
      "id": "5fd3fb4c",
      "metadata": {
        "papermill": {
          "duration": 0.007976,
          "end_time": "2023-02-21T10:08:04.657776",
          "exception": false,
          "start_time": "2023-02-21T10:08:04.649800",
          "status": "completed"
        },
        "tags": [],
        "id": "5fd3fb4c"
      },
      "source": [
        "**Multi-Head Attention**\n",
        "\n",
        "This implementation of Multi-Head Attention uses the **same Q, K, V matrices** in each head. It also allows for inputs corresponding to padding to be **masked out**."
      ]
    },
    {
      "cell_type": "code",
      "execution_count": null,
      "id": "ec9f79ee",
      "metadata": {
        "execution": {
          "iopub.execute_input": "2023-02-21T10:08:04.676124Z",
          "iopub.status.busy": "2023-02-21T10:08:04.674846Z",
          "iopub.status.idle": "2023-02-21T10:08:04.687551Z",
          "shell.execute_reply": "2023-02-21T10:08:04.686730Z"
        },
        "papermill": {
          "duration": 0.023708,
          "end_time": "2023-02-21T10:08:04.689449",
          "exception": false,
          "start_time": "2023-02-21T10:08:04.665741",
          "status": "completed"
        },
        "tags": [],
        "id": "ec9f79ee"
      },
      "outputs": [],
      "source": [
        "class MultiHeadAttention(tf.keras.layers.Layer):\n",
        "    def __init__(self, d_model, num_heads):\n",
        "        super().__init__()\n",
        "        self.d_model = d_model\n",
        "        self.num_heads = num_heads\n",
        "\n",
        "        # Head dimension\n",
        "        self.d_head = self.d_model // self.num_heads\n",
        "\n",
        "        # Trainable parameters\n",
        "        self.Wq = tf.keras.layers.Dense(self.d_model)\n",
        "        self.Wk = tf.keras.layers.Dense(self.d_model)\n",
        "        self.Wv = tf.keras.layers.Dense(self.d_model)\n",
        "\n",
        "        # Fully connected layer\n",
        "        self.dense = tf.keras.layers.Dense(self.d_model)\n",
        "\n",
        "    # Scaled dot product attention\n",
        "    def attention(self, query, key, value, mask=None):\n",
        "        key_dim = tf.cast(tf.shape(key)[-1], tf.float32)\n",
        "        scaled_scores = tf.matmul(query, key, transpose_b=True) / np.sqrt(key_dim)\n",
        "\n",
        "        if mask is not None:\n",
        "            scaled_scores = tf.where(mask==0, -np.inf, scaled_scores)\n",
        "\n",
        "        softmax = tf.keras.layers.Softmax()\n",
        "        weights = softmax(scaled_scores)\n",
        "        return tf.matmul(weights, value), weights\n",
        "\n",
        "    # Reshape and transpose Q, K, V\n",
        "    def split_heads(self, x):\n",
        "        batch_size = x.shape[0]\n",
        "\n",
        "        split_inputs = tf.reshape(x, (batch_size, -1, self.num_heads, self.d_head))\n",
        "        return tf.transpose(split_inputs, perm=[0, 2, 1, 3])\n",
        "\n",
        "    # Reverses previous function\n",
        "    def merge_heads(self, x):\n",
        "        batch_size = x.shape[0]\n",
        "\n",
        "        merged_inputs = tf.transpose(x, perm=[0, 2, 1, 3])\n",
        "        return tf.reshape(merged_inputs, (batch_size, -1, self.d_model))\n",
        "\n",
        "    # Forward pass\n",
        "    def call(self, q, k, v, mask):\n",
        "        Q = self.Wq(q)\n",
        "        K = self.Wk(k)\n",
        "        V = self.Wv(v)\n",
        "\n",
        "        Q = self.split_heads(Q)\n",
        "        K = self.split_heads(K)\n",
        "        V = self.split_heads(V)\n",
        "\n",
        "        output, attention_weights = self.attention(Q, K, V, mask)\n",
        "        output = self.merge_heads(output)\n",
        "\n",
        "        return self.dense(output), attention_weights"
      ]
    },
    {
      "cell_type": "markdown",
      "id": "dd01f104",
      "metadata": {
        "papermill": {
          "duration": 0.007838,
          "end_time": "2023-02-21T10:08:04.705103",
          "exception": false,
          "start_time": "2023-02-21T10:08:04.697265",
          "status": "completed"
        },
        "tags": [],
        "id": "dd01f104"
      },
      "source": [
        "**Encoder block**\n",
        "\n",
        "Like in the original paper, **dropout** is applied between layers."
      ]
    },
    {
      "cell_type": "code",
      "execution_count": null,
      "id": "a3506a4d",
      "metadata": {
        "execution": {
          "iopub.execute_input": "2023-02-21T10:08:04.722613Z",
          "iopub.status.busy": "2023-02-21T10:08:04.721869Z",
          "iopub.status.idle": "2023-02-21T10:08:04.730569Z",
          "shell.execute_reply": "2023-02-21T10:08:04.729748Z"
        },
        "papermill": {
          "duration": 0.019434,
          "end_time": "2023-02-21T10:08:04.732461",
          "exception": false,
          "start_time": "2023-02-21T10:08:04.713027",
          "status": "completed"
        },
        "tags": [],
        "id": "a3506a4d"
      },
      "outputs": [],
      "source": [
        "class EncoderBlock(tf.keras.layers.Layer):\n",
        "    def __init__(self, d_model, num_heads, hidden_dim, dropout_rate=0.1):\n",
        "        super().__init__()\n",
        "        self.mha = MultiHeadAttention(d_model, num_heads)\n",
        "        self.ffnn = self.feed_forward_neural_network(d_model, hidden_dim)\n",
        "\n",
        "        # Dropout\n",
        "        self.dropout1 = tf.keras.layers.Dropout(dropout_rate)\n",
        "        self.dropout2 = tf.keras.layers.Dropout(dropout_rate)\n",
        "\n",
        "        # Layer normalization\n",
        "        self.layernorm1 = tf.keras.layers.LayerNormalization()\n",
        "        self.layernorm2 = tf.keras.layers.LayerNormalization()\n",
        "\n",
        "    # Feed forward neural network\n",
        "    def feed_forward_neural_network(self, d_model, hidden_dim):\n",
        "        return tf.keras.Sequential([tf.keras.layers.Dense(hidden_dim, activation='relu'),\n",
        "                    tf.keras.layers.Dense(d_model)])\n",
        "\n",
        "    # Forward pass\n",
        "    def call(self, x, mask):\n",
        "        mha_output, attention_weights = self.mha(x, x, x, mask)\n",
        "        mha_output = self.dropout1(mha_output)\n",
        "        mha_output = self.layernorm1(x + mha_output)\n",
        "\n",
        "        ffnn_output = self.ffnn(mha_output)\n",
        "        ffnn_output = self.dropout2(ffnn_output)\n",
        "        output = self.layernorm2(mha_output + ffnn_output)\n",
        "\n",
        "        return output, attention_weights"
      ]
    },
    {
      "cell_type": "markdown",
      "id": "6c20c59d",
      "metadata": {
        "papermill": {
          "duration": 0.008136,
          "end_time": "2023-02-21T10:08:04.748596",
          "exception": false,
          "start_time": "2023-02-21T10:08:04.740460",
          "status": "completed"
        },
        "tags": [],
        "id": "6c20c59d"
      },
      "source": [
        "**Encoder**\n",
        "\n",
        "Recall that it is more common to use a **trainable embedding layer** for the positional encoding, which is what we will use here. Note also that the paper applied **dropout** to the embeddings before the encoder blocks."
      ]
    },
    {
      "cell_type": "code",
      "execution_count": null,
      "id": "47ad1747",
      "metadata": {
        "execution": {
          "iopub.execute_input": "2023-02-21T10:08:04.766072Z",
          "iopub.status.busy": "2023-02-21T10:08:04.765355Z",
          "iopub.status.idle": "2023-02-21T10:08:04.773448Z",
          "shell.execute_reply": "2023-02-21T10:08:04.772569Z"
        },
        "papermill": {
          "duration": 0.018693,
          "end_time": "2023-02-21T10:08:04.775270",
          "exception": false,
          "start_time": "2023-02-21T10:08:04.756577",
          "status": "completed"
        },
        "tags": [],
        "id": "47ad1747"
      },
      "outputs": [],
      "source": [
        "class Encoder(tf.keras.layers.Layer):\n",
        "    def __init__(self, num_blocks, d_model, num_heads, hidden_dim, src_vocab_size,\n",
        "               max_seq_len, dropout_rate=0.1):\n",
        "        super().__init__()\n",
        "        self.d_model = d_model\n",
        "        self.max_seq_len = max_seq_len\n",
        "\n",
        "        # Embedding layers\n",
        "        self.token_embed = tf.keras.layers.Embedding(src_vocab_size, self.d_model)\n",
        "        self.positional_embed = tf.keras.layers.Embedding(max_seq_len, self.d_model)\n",
        "\n",
        "        # Dropout\n",
        "        self.dropout = tf.keras.layers.Dropout(dropout_rate)\n",
        "\n",
        "        # Encoder blocks\n",
        "        self.blocks = [EncoderBlock(self.d_model, num_heads, hidden_dim, dropout_rate)\n",
        "                        for _ in range(num_blocks)]\n",
        "\n",
        "    # Forward pass\n",
        "    def call(self, inpt, mask):\n",
        "        token_embeds = self.token_embed(inpt)\n",
        "\n",
        "        # Position indices for batch of input sequences\n",
        "        num_pos = inpt.shape[0] * self.max_seq_len\n",
        "        pos_idx = np.resize(np.arange(self.max_seq_len), num_pos)\n",
        "        pos_idx = np.reshape(pos_idx, inpt.shape)\n",
        "        pos_embeds = self.pos_embed(pos_idx)\n",
        "\n",
        "        x = self.dropout(token_embeds + pos_embeds)\n",
        "\n",
        "        # Pass input through decoder blocks\n",
        "        for block in self.blocks:\n",
        "            x, weights = block(x, mask)\n",
        "\n",
        "        return x, weights"
      ]
    },
    {
      "cell_type": "markdown",
      "id": "b4e93180",
      "metadata": {
        "papermill": {
          "duration": 0.007829,
          "end_time": "2023-02-21T10:08:04.790916",
          "exception": false,
          "start_time": "2023-02-21T10:08:04.783087",
          "status": "completed"
        },
        "tags": [],
        "id": "b4e93180"
      },
      "source": [
        "**Decoder block**"
      ]
    },
    {
      "cell_type": "code",
      "execution_count": null,
      "id": "a44c5418",
      "metadata": {
        "execution": {
          "iopub.execute_input": "2023-02-21T10:08:04.808455Z",
          "iopub.status.busy": "2023-02-21T10:08:04.807763Z",
          "iopub.status.idle": "2023-02-21T10:08:04.817369Z",
          "shell.execute_reply": "2023-02-21T10:08:04.816564Z"
        },
        "papermill": {
          "duration": 0.020482,
          "end_time": "2023-02-21T10:08:04.819280",
          "exception": false,
          "start_time": "2023-02-21T10:08:04.798798",
          "status": "completed"
        },
        "tags": [],
        "id": "a44c5418"
      },
      "outputs": [],
      "source": [
        "class DecoderBlock(tf.keras.layers.Layer):\n",
        "    def __init__(self, d_model, num_heads, hidden_dim, dropout_rate=0.1):\n",
        "        super().__init__()\n",
        "\n",
        "        self.mha1 = MultiHeadAttention(d_model, num_heads)\n",
        "        self.mha2 = MultiHeadAttention(d_model, num_heads)\n",
        "\n",
        "        self.ffnn = self.feed_forward_neural_network(d_model, hidden_dim)\n",
        "\n",
        "        self.dropout1 = tf.keras.layers.Dropout(dropout_rate)\n",
        "        self.dropout2 = tf.keras.layers.Dropout(dropout_rate)\n",
        "        self.dropout3 = tf.keras.layers.Dropout(dropout_rate)\n",
        "\n",
        "        self.layernorm1 = tf.keras.layers.LayerNormalization()\n",
        "        self.layernorm2 = tf.keras.layers.LayerNormalization()\n",
        "        self.layernorm3 = tf.keras.layers.LayerNormalization()\n",
        "\n",
        "    # Feed forward neural network\n",
        "    def feed_forward_neural_network(self, d_model, hidden_dim):\n",
        "        return tf.keras.Sequential([tf.keras.layers.Dense(hidden_dim, activation='relu'),\n",
        "                    tf.keras.layers.Dense(d_model)])\n",
        "\n",
        "    # Forward pass\n",
        "    def call(self, encoder_output, target, decoder_mask, memory_mask):\n",
        "        mha_output1, attention_weights = self.mha1(target, target, target, decoder_mask)\n",
        "        mha_output1 = self.dropout1(mha_output1)\n",
        "        mha_output1 = self.layernorm1(mha_output1 + target)\n",
        "\n",
        "        mha_output2, attention_weights = self.mha2(mha_output1, encoder_output,\n",
        "                                                encoder_output, memory_mask)\n",
        "        mha_output2 = self.dropout2(mha_output2)\n",
        "        mha_output2 = self.layernorm2(mha_output2 + mha_output1)\n",
        "\n",
        "        ffnn_output = self.ffnn(mha_output2)\n",
        "        ffnn_output = self.dropout3(ffnn_output)\n",
        "        output = self.layernorm3(ffnn_output + mha_output2)\n",
        "        return output, attention_weights"
      ]
    },
    {
      "cell_type": "markdown",
      "id": "7a30d452",
      "metadata": {
        "papermill": {
          "duration": 0.007793,
          "end_time": "2023-02-21T10:08:04.835322",
          "exception": false,
          "start_time": "2023-02-21T10:08:04.827529",
          "status": "completed"
        },
        "tags": [],
        "id": "7a30d452"
      },
      "source": [
        "**Decoder**"
      ]
    },
    {
      "cell_type": "code",
      "execution_count": null,
      "id": "c942134b",
      "metadata": {
        "execution": {
          "iopub.execute_input": "2023-02-21T10:08:04.853155Z",
          "iopub.status.busy": "2023-02-21T10:08:04.852327Z",
          "iopub.status.idle": "2023-02-21T10:08:04.860810Z",
          "shell.execute_reply": "2023-02-21T10:08:04.859994Z"
        },
        "papermill": {
          "duration": 0.019299,
          "end_time": "2023-02-21T10:08:04.862689",
          "exception": false,
          "start_time": "2023-02-21T10:08:04.843390",
          "status": "completed"
        },
        "tags": [],
        "id": "c942134b"
      },
      "outputs": [],
      "source": [
        "class Decoder(tf.keras.layers.Layer):\n",
        "    def __init__(self, num_blocks, d_model, num_heads, hidden_dim, target_vocab_size,\n",
        "               max_seq_len, dropout_rate=0.1):\n",
        "        super().__init__()\n",
        "\n",
        "        self.d_model = d_model\n",
        "        self.max_seq_len = max_seq_len\n",
        "\n",
        "        self.token_embed = tf.keras.layers.Embedding(target_vocab_size, self.d_model)\n",
        "        self.pos_embed = tf.keras.layers.Embedding(max_seq_len, self.d_model)\n",
        "\n",
        "        self.dropout = tf.keras.layers.Dropout(dropout_rate)\n",
        "\n",
        "        self.blocks = [DecoderBlock(d_model, num_heads, hidden_dim, dropout_rate) for _ in range(num_blocks)]\n",
        "\n",
        "    def call(self, encoder_output, target, decoder_mask, memory_mask):\n",
        "        token_embeds = self.token_embed(target)\n",
        "\n",
        "        # Position indices for batch of sequences\n",
        "        num_pos = target.shape[0] * self.max_seq_len\n",
        "        pos_idx = np.resize(np.arange(self.max_seq_len), num_pos)\n",
        "        pos_idx = np.reshape(pos_idx, target.shape)\n",
        "        pos_embeds = self.pos_embed(pos_idx)\n",
        "\n",
        "        x = self.dropout(token_embeds + pos_embeds)\n",
        "\n",
        "        for block in self.blocks:\n",
        "            x, weights = block(encoder_output, x, decoder_mask, memory_mask)\n",
        "\n",
        "        return x, weights"
      ]
    },
    {
      "cell_type": "markdown",
      "id": "f216a1a8",
      "metadata": {
        "papermill": {
          "duration": 0.007781,
          "end_time": "2023-02-21T10:08:04.878448",
          "exception": false,
          "start_time": "2023-02-21T10:08:04.870667",
          "status": "completed"
        },
        "tags": [],
        "id": "f216a1a8"
      },
      "source": [
        "**Transfomer**\n",
        "\n",
        "Putting the pieces together, we have arrived at the transformer model."
      ]
    },
    {
      "cell_type": "code",
      "execution_count": null,
      "id": "c8e783ab",
      "metadata": {
        "execution": {
          "iopub.execute_input": "2023-02-21T10:08:04.896060Z",
          "iopub.status.busy": "2023-02-21T10:08:04.895223Z",
          "iopub.status.idle": "2023-02-21T10:08:04.902488Z",
          "shell.execute_reply": "2023-02-21T10:08:04.901670Z"
        },
        "papermill": {
          "duration": 0.018021,
          "end_time": "2023-02-21T10:08:04.904403",
          "exception": false,
          "start_time": "2023-02-21T10:08:04.886382",
          "status": "completed"
        },
        "tags": [],
        "id": "c8e783ab"
      },
      "outputs": [],
      "source": [
        "class Transformer(tf.keras.Model):\n",
        "    def __init__(self, num_blocks, d_model, num_heads, hidden_dim, source_vocab_size,\n",
        "               target_vocab_size, max_input_len, max_target_len, dropout_rate=0.1):\n",
        "        super().__init__()\n",
        "\n",
        "        self.encoder = Encoder(num_blocks, d_model, num_heads, hidden_dim, source_vocab_size,\n",
        "                               max_input_len, dropout_rate)\n",
        "\n",
        "        self.decoder = Decoder(num_blocks, d_model, num_heads, hidden_dim, target_vocab_size,\n",
        "                               max_target_len, dropout_rate)\n",
        "\n",
        "        # Final output layer\n",
        "        self.output_layer = tf.keras.layers.Dense(target_vocab_size)\n",
        "\n",
        "    def call(self, input_seqs, target_input_seqs, encoder_mask, decoder_mask, memory_mask):\n",
        "        encoder_output, encoder_attention_weights = self.encoder(input_seqs, encoder_mask)\n",
        "\n",
        "        decoder_output, decoder_attention_weights = self.decoder(encoder_output, target_input_seqs,\n",
        "                                                            decoder_mask, memory_mask)\n",
        "\n",
        "        return self.output_layer(decoder_output), encoder_attention_weights, decoder_attention_weights"
      ]
    },
    {
      "cell_type": "markdown",
      "id": "f41761c0",
      "metadata": {
        "papermill": {
          "duration": 0.007815,
          "end_time": "2023-02-21T10:08:04.920148",
          "exception": false,
          "start_time": "2023-02-21T10:08:04.912333",
          "status": "completed"
        },
        "tags": [],
        "id": "f41761c0"
      },
      "source": [
        "## <p style=\"font-family:JetBrains Mono; font-weight:normal; letter-spacing: 1px; color:#207d06; font-size:100%; text-align:left;padding: 0px; border-bottom: 3px solid #207d06;\">3.2 Fine-tuning</p>\n",
        "\n",
        "Training a transformer from scratch requires **lots of data and compute**, which can be expensive. Luckily, we can use **transfer learning** to leverage **pre-trained** transformer models and **fine-tune** these for our specific application.\n",
        "\n",
        "The idea is to add a new **classification head** on top of a pre-trained model and then train the entire model whilst using a **different learning rate** for each layer. In general, the closer the layer is to the input sequence the smaller the learning rate will be.\n",
        "\n",
        "Let's see how to do this using the **Hugging Face** ecosystem, which is a company that aims to make machine learning accessible to everyone. In particular, we will download a **pre-trained DistilBERT model** and fine-tune this on a **sentiment analysis** task.\n",
        "\n",
        "<br>\n",
        "\n",
        "**Libraries**"
      ]
    },
    {
      "cell_type": "code",
      "execution_count": null,
      "id": "2b5a0871",
      "metadata": {
        "execution": {
          "iopub.execute_input": "2023-02-21T10:08:04.937589Z",
          "iopub.status.busy": "2023-02-21T10:08:04.936906Z",
          "iopub.status.idle": "2023-02-21T10:08:08.434378Z",
          "shell.execute_reply": "2023-02-21T10:08:08.433311Z"
        },
        "papermill": {
          "duration": 3.508757,
          "end_time": "2023-02-21T10:08:08.436815",
          "exception": false,
          "start_time": "2023-02-21T10:08:04.928058",
          "status": "completed"
        },
        "tags": [],
        "id": "2b5a0871"
      },
      "outputs": [],
      "source": [
        "import numpy as np\n",
        "import pandas as pd\n",
        "import matplotlib.pyplot as plt\n",
        "%matplotlib inline\n",
        "import seaborn as sns\n",
        "sns.set(style='darkgrid', font_scale=1.6)\n",
        "from sklearn.model_selection import train_test_split\n",
        "from sklearn.metrics import mean_absolute_error, accuracy_score, f1_score\n",
        "from sklearn.metrics import ConfusionMatrixDisplay, confusion_matrix\n",
        "import os\n",
        "os.environ[\"WANDB_DISABLED\"] = \"true\"\n",
        "\n",
        "import torch\n",
        "from transformers import AutoTokenizer, AutoModelForSequenceClassification\n",
        "from transformers import Trainer, TrainingArguments\n",
        "import datasets\n",
        "from datasets import load_dataset"
      ]
    },
    {
      "cell_type": "markdown",
      "id": "ff62333e",
      "metadata": {
        "papermill": {
          "duration": 0.007886,
          "end_time": "2023-02-21T10:08:08.452943",
          "exception": false,
          "start_time": "2023-02-21T10:08:08.445057",
          "status": "completed"
        },
        "tags": [],
        "id": "ff62333e"
      },
      "source": [
        "**Load data**\n",
        "\n",
        "<br>\n",
        "\n"
      ]
    },
    {
      "cell_type": "code",
      "execution_count": null,
      "id": "d8550f14",
      "metadata": {
        "execution": {
          "iopub.execute_input": "2023-02-21T10:08:08.471747Z",
          "iopub.status.busy": "2023-02-21T10:08:08.469974Z",
          "iopub.status.idle": "2023-02-21T10:08:09.522318Z",
          "shell.execute_reply": "2023-02-21T10:08:09.521221Z"
        },
        "papermill": {
          "duration": 1.064437,
          "end_time": "2023-02-21T10:08:09.525278",
          "exception": false,
          "start_time": "2023-02-21T10:08:08.460841",
          "status": "completed"
        },
        "tags": [],
        "id": "d8550f14",
        "outputId": "9bca6880-da0d-40fa-d6a6-13560e0ed0b5"
      },
      "outputs": [
        {
          "name": "stdout",
          "output_type": "stream",
          "text": [
            "(60000, 3)\n"
          ]
        },
        {
          "data": {
            "text/html": [
              "<div>\n",
              "<style scoped>\n",
              "    .dataframe tbody tr th:only-of-type {\n",
              "        vertical-align: middle;\n",
              "    }\n",
              "\n",
              "    .dataframe tbody tr th {\n",
              "        vertical-align: top;\n",
              "    }\n",
              "\n",
              "    .dataframe thead th {\n",
              "        text-align: right;\n",
              "    }\n",
              "</style>\n",
              "<table border=\"1\" class=\"dataframe\">\n",
              "  <thead>\n",
              "    <tr style=\"text-align: right;\">\n",
              "      <th></th>\n",
              "      <th>Id</th>\n",
              "      <th>Review</th>\n",
              "      <th>Rating</th>\n",
              "    </tr>\n",
              "  </thead>\n",
              "  <tbody>\n",
              "    <tr>\n",
              "      <th>0</th>\n",
              "      <td>0</td>\n",
              "      <td>Very good value and a great tv very happy and ...</td>\n",
              "      <td>5</td>\n",
              "    </tr>\n",
              "    <tr>\n",
              "      <th>1</th>\n",
              "      <td>1</td>\n",
              "      <td>After 6 month still can't access my account</td>\n",
              "      <td>3</td>\n",
              "    </tr>\n",
              "    <tr>\n",
              "      <th>2</th>\n",
              "      <td>2</td>\n",
              "      <td>I couldn't make an official review on a produc...</td>\n",
              "      <td>1</td>\n",
              "    </tr>\n",
              "    <tr>\n",
              "      <th>3</th>\n",
              "      <td>3</td>\n",
              "      <td>Fantastic! Extremely easy to use website, fant...</td>\n",
              "      <td>5</td>\n",
              "    </tr>\n",
              "    <tr>\n",
              "      <th>4</th>\n",
              "      <td>4</td>\n",
              "      <td>So far annoyed as hell with this bt monthly pa...</td>\n",
              "      <td>1</td>\n",
              "    </tr>\n",
              "  </tbody>\n",
              "</table>\n",
              "</div>"
            ],
            "text/plain": [
              "   Id                                             Review  Rating\n",
              "0   0  Very good value and a great tv very happy and ...       5\n",
              "1   1        After 6 month still can't access my account       3\n",
              "2   2  I couldn't make an official review on a produc...       1\n",
              "3   3  Fantastic! Extremely easy to use website, fant...       5\n",
              "4   4  So far annoyed as hell with this bt monthly pa...       1"
            ]
          },
          "execution_count": 9,
          "metadata": {},
          "output_type": "execute_result"
        }
      ],
      "source": [
        "# Load data\n",
        "train = pd.read_csv(\"/kaggle/input/sentiment-analysis-company-reviews/train.csv\")\n",
        "test = pd.read_csv(\"/kaggle/input/sentiment-analysis-company-reviews/test.csv\")\n",
        "sub = pd.read_csv(\"/kaggle/input/sentiment-analysis-company-reviews/sample_submission.csv\")\n",
        "\n",
        "# Preview data\n",
        "print(train.shape)\n",
        "train.head(5)"
      ]
    },
    {
      "cell_type": "code",
      "execution_count": null,
      "id": "4ddb10b8",
      "metadata": {
        "execution": {
          "iopub.execute_input": "2023-02-21T10:08:09.543828Z",
          "iopub.status.busy": "2023-02-21T10:08:09.543022Z",
          "iopub.status.idle": "2023-02-21T10:08:09.793810Z",
          "shell.execute_reply": "2023-02-21T10:08:09.792418Z"
        },
        "papermill": {
          "duration": 0.262373,
          "end_time": "2023-02-21T10:08:09.796199",
          "exception": false,
          "start_time": "2023-02-21T10:08:09.533826",
          "status": "completed"
        },
        "tags": [],
        "id": "4ddb10b8",
        "outputId": "dc8ea5f6-efd3-40db-c4c0-2bcb53593c78"
      },
      "outputs": [
        {
          "data": {
            "image/png": "[encoded data removed]",
            "text/plain": [
              "<Figure size 1000x400 with 1 Axes>"
            ]
          },
          "metadata": {},
          "output_type": "display_data"
        }
      ],
      "source": [
        "# Explore target distribution\n",
        "plt.figure(figsize=(10,4))\n",
        "sns.countplot(data=train, x=\"Rating\")\n",
        "plt.title(\"Target distribution\")\n",
        "plt.show()"
      ]
    },
    {
      "cell_type": "markdown",
      "id": "a0cd0080",
      "metadata": {
        "papermill": {
          "duration": 0.009414,
          "end_time": "2023-02-21T10:08:09.815057",
          "exception": false,
          "start_time": "2023-02-21T10:08:09.805643",
          "status": "completed"
        },
        "tags": [],
        "id": "a0cd0080"
      },
      "source": [
        "**Pre-process data**\n",
        "\n",
        "<br>\n",
        "\n",
        "We have to make some **small changes** to our dataset so it is compatible with the Hugging Face dataset object."
      ]
    },
    {
      "cell_type": "code",
      "execution_count": null,
      "id": "ea4ce5a5",
      "metadata": {
        "execution": {
          "iopub.execute_input": "2023-02-21T10:08:09.833427Z",
          "iopub.status.busy": "2023-02-21T10:08:09.833123Z",
          "iopub.status.idle": "2023-02-21T10:08:10.377218Z",
          "shell.execute_reply": "2023-02-21T10:08:10.376245Z"
        },
        "papermill": {
          "duration": 0.555908,
          "end_time": "2023-02-21T10:08:10.379533",
          "exception": false,
          "start_time": "2023-02-21T10:08:09.823625",
          "status": "completed"
        },
        "tags": [],
        "id": "ea4ce5a5"
      },
      "outputs": [],
      "source": [
        "# Map labels\n",
        "train[\"Rating\"] = train[\"Rating\"] - 1\n",
        "\n",
        "# Create validation set\n",
        "X_train, X_valid, _, _ = train_test_split(train, train[\"Rating\"], test_size=0.2, shuffle=True, random_state=0)\n",
        "\n",
        "# Save to csv\n",
        "X_train[[\"Review\",\"Rating\"]].rename(columns={\"Review\":\"text\", \"Rating\":\"label\"}).to_csv(\"new_train.csv\", index=False)\n",
        "X_valid[[\"Review\",\"Rating\"]].rename(columns={\"Review\":\"text\", \"Rating\":\"label\"}).to_csv(\"new_valid.csv\", index=False)\n",
        "test[[\"Review\"]].rename(columns={\"Review\":\"text\"}).to_csv(\"new_test.csv\", index=False)"
      ]
    },
    {
      "cell_type": "markdown",
      "id": "63048755",
      "metadata": {
        "papermill": {
          "duration": 0.008836,
          "end_time": "2023-02-21T10:08:10.397631",
          "exception": false,
          "start_time": "2023-02-21T10:08:10.388795",
          "status": "completed"
        },
        "tags": [],
        "id": "63048755"
      },
      "source": [
        "**Datasets**\n",
        "\n",
        "<br>\n",
        "\n",
        "Now we can load our data into Hugging Face datasets, which makes it easier to interact with their models."
      ]
    },
    {
      "cell_type": "code",
      "execution_count": null,
      "id": "99fa24ba",
      "metadata": {
        "_kg_hide-output": false,
        "execution": {
          "iopub.execute_input": "2023-02-21T10:08:10.416400Z",
          "iopub.status.busy": "2023-02-21T10:08:10.416092Z",
          "iopub.status.idle": "2023-02-21T10:08:12.776388Z",
          "shell.execute_reply": "2023-02-21T10:08:12.775256Z"
        },
        "papermill": {
          "duration": 2.37241,
          "end_time": "2023-02-21T10:08:12.778835",
          "exception": false,
          "start_time": "2023-02-21T10:08:10.406425",
          "status": "completed"
        },
        "tags": [],
        "id": "99fa24ba",
        "outputId": "85e269ac-6acf-4cff-b6b3-3790f53ad12b",
        "colab": {
          "referenced_widgets": [
            "0d1cb0b9e6714b59856cba992cd45464",
            "11946554ae434a38b2dcbb88bdda7756",
            "c36ef69c758d465caee3582ce345e803",
            "10f98ea3a4394cf3a859288916651723",
            "1bf1725f87bf4f7f9775c0174d6c37a9",
            "236c91f3c4f3469b8ff054135d6e8832",
            "e15781cf579a479e9df4a9acc44e7b68",
            "7586d660a01446d8932a4df1d83ace8e",
            "7ccb4447ce69422696495678096fd7d1",
            "5ed1c152f65f48f79d7450a7bf265613",
            "b3bfc327d5014eda8281f8e91805bfad"
          ]
        }
      },
      "outputs": [
        {
          "name": "stdout",
          "output_type": "stream",
          "text": [
            "Downloading and preparing dataset csv/default to /root/.cache/huggingface/datasets/csv/default-ebbeb446fed03a5d/0.0.0/433e0ccc46f9880962cc2b12065189766fbb2bee57a221866138fb9203c83519...\n"
          ]
        },
        {
          "data": {
            "application/vnd.jupyter.widget-view+json": {
              "model_id": "0d1cb0b9e6714b59856cba992cd45464",
              "version_major": 2,
              "version_minor": 0
            },
            "text/plain": [
              "Downloading data files:   0%|          | 0/1 [00:00<?, ?it/s]"
            ]
          },
          "metadata": {},
          "output_type": "display_data"
        },
        {
          "data": {
            "application/vnd.jupyter.widget-view+json": {
              "model_id": "11946554ae434a38b2dcbb88bdda7756",
              "version_major": 2,
              "version_minor": 0
            },
            "text/plain": [
              "Extracting data files:   0%|          | 0/1 [00:00<?, ?it/s]"
            ]
          },
          "metadata": {},
          "output_type": "display_data"
        },
        {
          "name": "stdout",
          "output_type": "stream",
          "text": [
            "Dataset csv downloaded and prepared to /root/.cache/huggingface/datasets/csv/default-ebbeb446fed03a5d/0.0.0/433e0ccc46f9880962cc2b12065189766fbb2bee57a221866138fb9203c83519. Subsequent calls will reuse this data.\n"
          ]
        },
        {
          "data": {
            "application/vnd.jupyter.widget-view+json": {
              "model_id": "c36ef69c758d465caee3582ce345e803",
              "version_major": 2,
              "version_minor": 0
            },
            "text/plain": [
              "  0%|          | 0/1 [00:00<?, ?it/s]"
            ]
          },
          "metadata": {},
          "output_type": "display_data"
        },
        {
          "name": "stdout",
          "output_type": "stream",
          "text": [
            "Downloading and preparing dataset csv/default to /root/.cache/huggingface/datasets/csv/default-6503122057885195/0.0.0/433e0ccc46f9880962cc2b12065189766fbb2bee57a221866138fb9203c83519...\n"
          ]
        },
        {
          "data": {
            "application/vnd.jupyter.widget-view+json": {
              "model_id": "10f98ea3a4394cf3a859288916651723",
              "version_major": 2,
              "version_minor": 0
            },
            "text/plain": [
              "Downloading data files:   0%|          | 0/1 [00:00<?, ?it/s]"
            ]
          },
          "metadata": {},
          "output_type": "display_data"
        },
        {
          "data": {
            "application/vnd.jupyter.widget-view+json": {
              "model_id": "1bf1725f87bf4f7f9775c0174d6c37a9",
              "version_major": 2,
              "version_minor": 0
            },
            "text/plain": [
              "Extracting data files:   0%|          | 0/1 [00:00<?, ?it/s]"
            ]
          },
          "metadata": {},
          "output_type": "display_data"
        },
        {
          "name": "stdout",
          "output_type": "stream",
          "text": [
            "Dataset csv downloaded and prepared to /root/.cache/huggingface/datasets/csv/default-6503122057885195/0.0.0/433e0ccc46f9880962cc2b12065189766fbb2bee57a221866138fb9203c83519. Subsequent calls will reuse this data.\n"
          ]
        },
        {
          "data": {
            "application/vnd.jupyter.widget-view+json": {
              "model_id": "236c91f3c4f3469b8ff054135d6e8832",
              "version_major": 2,
              "version_minor": 0
            },
            "text/plain": [
              "  0%|          | 0/1 [00:00<?, ?it/s]"
            ]
          },
          "metadata": {},
          "output_type": "display_data"
        },
        {
          "name": "stdout",
          "output_type": "stream",
          "text": [
            "Downloading and preparing dataset csv/default to /root/.cache/huggingface/datasets/csv/default-0e0cec55462e437c/0.0.0/433e0ccc46f9880962cc2b12065189766fbb2bee57a221866138fb9203c83519...\n"
          ]
        },
        {
          "data": {
            "application/vnd.jupyter.widget-view+json": {
              "model_id": "e15781cf579a479e9df4a9acc44e7b68",
              "version_major": 2,
              "version_minor": 0
            },
            "text/plain": [
              "Downloading data files:   0%|          | 0/1 [00:00<?, ?it/s]"
            ]
          },
          "metadata": {},
          "output_type": "display_data"
        },
        {
          "data": {
            "application/vnd.jupyter.widget-view+json": {
              "model_id": "7586d660a01446d8932a4df1d83ace8e",
              "version_major": 2,
              "version_minor": 0
            },
            "text/plain": [
              "Extracting data files:   0%|          | 0/1 [00:00<?, ?it/s]"
            ]
          },
          "metadata": {},
          "output_type": "display_data"
        },
        {
          "name": "stdout",
          "output_type": "stream",
          "text": [
            "Dataset csv downloaded and prepared to /root/.cache/huggingface/datasets/csv/default-0e0cec55462e437c/0.0.0/433e0ccc46f9880962cc2b12065189766fbb2bee57a221866138fb9203c83519. Subsequent calls will reuse this data.\n"
          ]
        },
        {
          "data": {
            "application/vnd.jupyter.widget-view+json": {
              "model_id": "7ccb4447ce69422696495678096fd7d1",
              "version_major": 2,
              "version_minor": 0
            },
            "text/plain": [
              "  0%|          | 0/1 [00:00<?, ?it/s]"
            ]
          },
          "metadata": {},
          "output_type": "display_data"
        },
        {
          "data": {
            "application/vnd.jupyter.widget-view+json": {
              "model_id": "5ed1c152f65f48f79d7450a7bf265613",
              "version_major": 2,
              "version_minor": 0
            },
            "text/plain": [
              "Casting the dataset:   0%|          | 0/5 [00:00<?, ?ba/s]"
            ]
          },
          "metadata": {},
          "output_type": "display_data"
        },
        {
          "data": {
            "application/vnd.jupyter.widget-view+json": {
              "model_id": "b3bfc327d5014eda8281f8e91805bfad",
              "version_major": 2,
              "version_minor": 0
            },
            "text/plain": [
              "Casting the dataset:   0%|          | 0/2 [00:00<?, ?ba/s]"
            ]
          },
          "metadata": {},
          "output_type": "display_data"
        },
        {
          "name": "stdout",
          "output_type": "stream",
          "text": [
            "DatasetDict({\n",
            "    train: Dataset({\n",
            "        features: ['text', 'label'],\n",
            "        num_rows: 48000\n",
            "    })\n",
            "})\n",
            "DatasetDict({\n",
            "    valid: Dataset({\n",
            "        features: ['text', 'label'],\n",
            "        num_rows: 12000\n",
            "    })\n",
            "})\n",
            "DatasetDict({\n",
            "    test: Dataset({\n",
            "        features: ['text'],\n",
            "        num_rows: 40000\n",
            "    })\n",
            "})\n"
          ]
        }
      ],
      "source": [
        "# Create datasets\n",
        "train_ds = load_dataset(\"csv\", data_files={\"train\": \"new_train.csv\"})\n",
        "valid_ds = load_dataset(\"csv\", data_files={\"valid\": \"new_valid.csv\"})\n",
        "test_ds = load_dataset(\"csv\", data_files={\"test\": \"new_test.csv\"})\n",
        "\n",
        "# Define features and target\n",
        "train_ds = train_ds.cast(datasets.Features({\"text\": datasets.Value(\"string\"), \"label\": datasets.ClassLabel(num_classes=5)}))\n",
        "valid_ds = valid_ds.cast(datasets.Features({\"text\": datasets.Value(\"string\"), \"label\": datasets.ClassLabel(num_classes=5)}))\n",
        "\n",
        "# Print summary\n",
        "print(train_ds)\n",
        "print(valid_ds)\n",
        "print(test_ds)"
      ]
    },
    {
      "cell_type": "markdown",
      "id": "c5801c45",
      "metadata": {
        "papermill": {
          "duration": 0.019723,
          "end_time": "2023-02-21T10:08:12.810844",
          "exception": false,
          "start_time": "2023-02-21T10:08:12.791121",
          "status": "completed"
        },
        "tags": [],
        "id": "c5801c45"
      },
      "source": [
        "**Tokenizer**\n",
        "\n",
        "<br>\n",
        "\n",
        "Hugging Face has this amazing feature called **AutoTokenizer** that given the model name, returns the precise tokenizer used for training that model."
      ]
    },
    {
      "cell_type": "code",
      "execution_count": null,
      "id": "7eaf0ee8",
      "metadata": {
        "execution": {
          "iopub.execute_input": "2023-02-21T10:08:12.849676Z",
          "iopub.status.busy": "2023-02-21T10:08:12.849258Z",
          "iopub.status.idle": "2023-02-21T10:08:17.870221Z",
          "shell.execute_reply": "2023-02-21T10:08:17.869232Z"
        },
        "papermill": {
          "duration": 5.042983,
          "end_time": "2023-02-21T10:08:17.872860",
          "exception": false,
          "start_time": "2023-02-21T10:08:12.829877",
          "status": "completed"
        },
        "tags": [],
        "id": "7eaf0ee8",
        "outputId": "8ba0795d-6d06-4527-d4fd-2fa63acf3cf1",
        "colab": {
          "referenced_widgets": [
            "63f93e5f80e5416f997d1d20e0b25cf9",
            "3759de7201dd4f998496e74fc2a3e12e",
            "6c8e7d8c09fe4680b568e64e0c738996",
            "da9f6d9fd4ba4608a6f31412a9ec5cf2"
          ]
        }
      },
      "outputs": [
        {
          "data": {
            "application/vnd.jupyter.widget-view+json": {
              "model_id": "63f93e5f80e5416f997d1d20e0b25cf9",
              "version_major": 2,
              "version_minor": 0
            },
            "text/plain": [
              "Downloading:   0%|          | 0.00/28.0 [00:00<?, ?B/s]"
            ]
          },
          "metadata": {},
          "output_type": "display_data"
        },
        {
          "data": {
            "application/vnd.jupyter.widget-view+json": {
              "model_id": "3759de7201dd4f998496e74fc2a3e12e",
              "version_major": 2,
              "version_minor": 0
            },
            "text/plain": [
              "Downloading:   0%|          | 0.00/483 [00:00<?, ?B/s]"
            ]
          },
          "metadata": {},
          "output_type": "display_data"
        },
        {
          "data": {
            "application/vnd.jupyter.widget-view+json": {
              "model_id": "6c8e7d8c09fe4680b568e64e0c738996",
              "version_major": 2,
              "version_minor": 0
            },
            "text/plain": [
              "Downloading:   0%|          | 0.00/226k [00:00<?, ?B/s]"
            ]
          },
          "metadata": {},
          "output_type": "display_data"
        },
        {
          "data": {
            "application/vnd.jupyter.widget-view+json": {
              "model_id": "da9f6d9fd4ba4608a6f31412a9ec5cf2",
              "version_major": 2,
              "version_minor": 0
            },
            "text/plain": [
              "Downloading:   0%|          | 0.00/455k [00:00<?, ?B/s]"
            ]
          },
          "metadata": {},
          "output_type": "display_data"
        }
      ],
      "source": [
        "model_name = \"distilbert-base-uncased\"\n",
        "tokenizer = AutoTokenizer.from_pretrained(model_name)"
      ]
    },
    {
      "cell_type": "markdown",
      "id": "bc08032f",
      "metadata": {
        "papermill": {
          "duration": 0.010686,
          "end_time": "2023-02-21T10:08:17.894841",
          "exception": false,
          "start_time": "2023-02-21T10:08:17.884155",
          "status": "completed"
        },
        "tags": [],
        "id": "bc08032f"
      },
      "source": [
        "Tokenization is applied in batches and the end result is saved as a **new feature** in the datasets."
      ]
    },
    {
      "cell_type": "code",
      "execution_count": null,
      "id": "9a2acad7",
      "metadata": {
        "execution": {
          "iopub.execute_input": "2023-02-21T10:08:17.917601Z",
          "iopub.status.busy": "2023-02-21T10:08:17.917258Z",
          "iopub.status.idle": "2023-02-21T10:08:49.591365Z",
          "shell.execute_reply": "2023-02-21T10:08:49.590284Z"
        },
        "papermill": {
          "duration": 31.688203,
          "end_time": "2023-02-21T10:08:49.593669",
          "exception": false,
          "start_time": "2023-02-21T10:08:17.905466",
          "status": "completed"
        },
        "tags": [],
        "id": "9a2acad7",
        "outputId": "e923b2fa-bf11-46d5-cf66-2ed1aa032350",
        "colab": {
          "referenced_widgets": [
            "1c7c668796a54b52afaa85197143648b",
            "fd0eef9d5cc747deb2c7219a2a29af43",
            "8cd4b6f9d44946c28b3b36b052adb3a1"
          ]
        }
      },
      "outputs": [
        {
          "data": {
            "application/vnd.jupyter.widget-view+json": {
              "model_id": "1c7c668796a54b52afaa85197143648b",
              "version_major": 2,
              "version_minor": 0
            },
            "text/plain": [
              "  0%|          | 0/1500 [00:00<?, ?ba/s]"
            ]
          },
          "metadata": {},
          "output_type": "display_data"
        },
        {
          "data": {
            "application/vnd.jupyter.widget-view+json": {
              "model_id": "fd0eef9d5cc747deb2c7219a2a29af43",
              "version_major": 2,
              "version_minor": 0
            },
            "text/plain": [
              "  0%|          | 0/375 [00:00<?, ?ba/s]"
            ]
          },
          "metadata": {},
          "output_type": "display_data"
        },
        {
          "data": {
            "application/vnd.jupyter.widget-view+json": {
              "model_id": "8cd4b6f9d44946c28b3b36b052adb3a1",
              "version_major": 2,
              "version_minor": 0
            },
            "text/plain": [
              "  0%|          | 0/1250 [00:00<?, ?ba/s]"
            ]
          },
          "metadata": {},
          "output_type": "display_data"
        }
      ],
      "source": [
        "# Tokenize batch\n",
        "def tokenize(batch):\n",
        "    return tokenizer(batch[\"text\"], padding=True, truncation=True)\n",
        "\n",
        "# Apply tokenization\n",
        "batch_size = 32\n",
        "train_encoded = train_ds.map(tokenize, batched=True, batch_size=batch_size)\n",
        "valid_encoded = valid_ds.map(tokenize, batched=True, batch_size=batch_size)\n",
        "test_encoded = test_ds.map(tokenize, batched=True, batch_size=batch_size)"
      ]
    },
    {
      "cell_type": "markdown",
      "id": "dc9d2645",
      "metadata": {
        "papermill": {
          "duration": 0.01081,
          "end_time": "2023-02-21T10:08:49.616101",
          "exception": false,
          "start_time": "2023-02-21T10:08:49.605291",
          "status": "completed"
        },
        "tags": [],
        "id": "dc9d2645"
      },
      "source": [
        "**Model**\n",
        "\n",
        "<br>\n",
        "\n",
        "We will be using the pre-trained `distilbert-base-uncased` model. This is a **distilled version** of BERT that also doesn't make a difference between upper and lower cases."
      ]
    },
    {
      "cell_type": "code",
      "execution_count": null,
      "id": "66b6a2e2",
      "metadata": {
        "_kg_hide-output": true,
        "execution": {
          "iopub.execute_input": "2023-02-21T10:08:49.639937Z",
          "iopub.status.busy": "2023-02-21T10:08:49.639097Z",
          "iopub.status.idle": "2023-02-21T10:09:08.298744Z",
          "shell.execute_reply": "2023-02-21T10:09:08.297752Z"
        },
        "papermill": {
          "duration": 18.674014,
          "end_time": "2023-02-21T10:09:08.301153",
          "exception": false,
          "start_time": "2023-02-21T10:08:49.627139",
          "status": "completed"
        },
        "tags": [],
        "id": "66b6a2e2",
        "outputId": "4977ae57-b78f-4945-de97-f5f117096b3b",
        "colab": {
          "referenced_widgets": [
            "2eccee9e9ad4488e9160b2cb4e8d9487"
          ]
        }
      },
      "outputs": [
        {
          "data": {
            "application/vnd.jupyter.widget-view+json": {
              "model_id": "2eccee9e9ad4488e9160b2cb4e8d9487",
              "version_major": 2,
              "version_minor": 0
            },
            "text/plain": [
              "Downloading:   0%|          | 0.00/256M [00:00<?, ?B/s]"
            ]
          },
          "metadata": {},
          "output_type": "display_data"
        },
        {
          "name": "stderr",
          "output_type": "stream",
          "text": [
            "Some weights of the model checkpoint at distilbert-base-uncased were not used when initializing DistilBertForSequenceClassification: ['vocab_layer_norm.weight', 'vocab_layer_norm.bias', 'vocab_transform.weight', 'vocab_projector.bias', 'vocab_transform.bias', 'vocab_projector.weight']\n",
            "- This IS expected if you are initializing DistilBertForSequenceClassification from the checkpoint of a model trained on another task or with another architecture (e.g. initializing a BertForSequenceClassification model from a BertForPreTraining model).\n",
            "- This IS NOT expected if you are initializing DistilBertForSequenceClassification from the checkpoint of a model that you expect to be exactly identical (initializing a BertForSequenceClassification model from a BertForSequenceClassification model).\n",
            "Some weights of DistilBertForSequenceClassification were not initialized from the model checkpoint at distilbert-base-uncased and are newly initialized: ['classifier.weight', 'pre_classifier.bias', 'classifier.bias', 'pre_classifier.weight']\n",
            "You should probably TRAIN this model on a down-stream task to be able to use it for predictions and inference.\n"
          ]
        }
      ],
      "source": [
        "# Connect to GPU\n",
        "device = torch.device('cuda' if torch.cuda.is_available() else 'cpu')\n",
        "\n",
        "# Download model\n",
        "num_labels = 5\n",
        "model = (AutoModelForSequenceClassification\n",
        "         .from_pretrained(model_name, num_labels=num_labels)\n",
        "         .to(device))"
      ]
    },
    {
      "cell_type": "markdown",
      "id": "606b0bf6",
      "metadata": {
        "papermill": {
          "duration": 0.011092,
          "end_time": "2023-02-21T10:09:08.324206",
          "exception": false,
          "start_time": "2023-02-21T10:09:08.313114",
          "status": "completed"
        },
        "tags": [],
        "id": "606b0bf6"
      },
      "source": [
        "**Metrics**\n",
        "\n",
        "<br>\n",
        "\n",
        "These get computed at the end of every epoch on the validation dataset. We've added in the competition metric, which is Mean Absolute Error (MAE)."
      ]
    },
    {
      "cell_type": "code",
      "execution_count": null,
      "id": "7d9d40e6",
      "metadata": {
        "execution": {
          "iopub.execute_input": "2023-02-21T10:09:08.348900Z",
          "iopub.status.busy": "2023-02-21T10:09:08.348584Z",
          "iopub.status.idle": "2023-02-21T10:09:08.354170Z",
          "shell.execute_reply": "2023-02-21T10:09:08.353150Z"
        },
        "papermill": {
          "duration": 0.019879,
          "end_time": "2023-02-21T10:09:08.356076",
          "exception": false,
          "start_time": "2023-02-21T10:09:08.336197",
          "status": "completed"
        },
        "tags": [],
        "id": "7d9d40e6"
      },
      "outputs": [],
      "source": [
        "def compute_metrics(pred):\n",
        "    labels = pred.label_ids\n",
        "    preds = pred.predictions.argmax(-1)\n",
        "    f1 = f1_score(labels, preds, average=\"weighted\")\n",
        "    acc = accuracy_score(labels, preds)\n",
        "    mae = mean_absolute_error(labels, preds)\n",
        "    return {\"mae\": mae, \"accuracy\": acc, \"f1\": f1}"
      ]
    },
    {
      "cell_type": "markdown",
      "id": "91e196f8",
      "metadata": {
        "papermill": {
          "duration": 0.011134,
          "end_time": "2023-02-21T10:09:08.378635",
          "exception": false,
          "start_time": "2023-02-21T10:09:08.367501",
          "status": "completed"
        },
        "tags": [],
        "id": "91e196f8"
      },
      "source": [
        "**Train model**\n",
        "\n",
        "<br>\n",
        "\n",
        "Training a model is made easy using Hugging Face with their Train helper function."
      ]
    },
    {
      "cell_type": "code",
      "execution_count": null,
      "id": "5704e494",
      "metadata": {
        "execution": {
          "iopub.execute_input": "2023-02-21T10:09:08.402609Z",
          "iopub.status.busy": "2023-02-21T10:09:08.402326Z",
          "iopub.status.idle": "2023-02-21T10:09:08.417379Z",
          "shell.execute_reply": "2023-02-21T10:09:08.416285Z"
        },
        "papermill": {
          "duration": 0.0298,
          "end_time": "2023-02-21T10:09:08.419966",
          "exception": false,
          "start_time": "2023-02-21T10:09:08.390166",
          "status": "completed"
        },
        "tags": [],
        "id": "5704e494",
        "outputId": "bf2f4c66-1870-42bc-a9a3-90b2ac4b1605"
      },
      "outputs": [
        {
          "name": "stderr",
          "output_type": "stream",
          "text": [
            "Using the `WAND_DISABLED` environment variable is deprecated and will be removed in v5. Use the --report_to flag to control the integrations used for logging result (for instance --report_to none).\n"
          ]
        }
      ],
      "source": [
        "logging_steps = len(train_encoded[\"train\"]) // batch_size\n",
        "model_name_out = f\"{model_name}-finetuned-emotion\"\n",
        "\n",
        "# Training hyper-parameters\n",
        "training_args = TrainingArguments(output_dir=model_name,\n",
        "                                  num_train_epochs=3,\n",
        "                                  learning_rate=2e-5,\n",
        "                                  per_device_train_batch_size=batch_size,\n",
        "                                  per_device_eval_batch_size=batch_size,\n",
        "                                  weight_decay=0.01,\n",
        "                                  evaluation_strategy=\"epoch\",\n",
        "                                  disable_tqdm=False,\n",
        "                                  logging_steps=logging_steps,\n",
        "                                  push_to_hub=False,\n",
        "                                  log_level=\"error\")"
      ]
    },
    {
      "cell_type": "code",
      "execution_count": null,
      "id": "f5e16961",
      "metadata": {
        "execution": {
          "iopub.execute_input": "2023-02-21T10:09:08.444515Z",
          "iopub.status.busy": "2023-02-21T10:09:08.443664Z",
          "iopub.status.idle": "2023-02-21T11:14:35.323853Z",
          "shell.execute_reply": "2023-02-21T11:14:35.322848Z"
        },
        "papermill": {
          "duration": 3926.894323,
          "end_time": "2023-02-21T11:14:35.325918",
          "exception": false,
          "start_time": "2023-02-21T10:09:08.431595",
          "status": "completed"
        },
        "tags": [],
        "id": "f5e16961",
        "outputId": "175f6c5d-7a6d-4dc7-ee55-87ab3a983d8e"
      },
      "outputs": [
        {
          "name": "stderr",
          "output_type": "stream",
          "text": [
            "/opt/conda/lib/python3.7/site-packages/transformers/optimization.py:310: FutureWarning: This implementation of AdamW is deprecated and will be removed in a future version. Use the PyTorch implementation torch.optim.AdamW instead, or set `no_deprecation_warning=True` to disable this warning\n",
            "  FutureWarning,\n"
          ]
        },
        {
          "data": {
            "text/html": [
              "\n",
              "    <div>\n",
              "      \n",
              "      <progress value='4500' max='4500' style='width:300px; height:20px; vertical-align: middle;'></progress>\n",
              "      [4500/4500 1:05:24, Epoch 3/3]\n",
              "    </div>\n",
              "    <table border=\"1\" class=\"dataframe\">\n",
              "  <thead>\n",
              " <tr style=\"text-align: left;\">\n",
              "      <th>Epoch</th>\n",
              "      <th>Training Loss</th>\n",
              "      <th>Validation Loss</th>\n",
              "      <th>Mae</th>\n",
              "      <th>Accuracy</th>\n",
              "      <th>F1</th>\n",
              "    </tr>\n",
              "  </thead>\n",
              "  <tbody>\n",
              "    <tr>\n",
              "      <td>1</td>\n",
              "      <td>0.395500</td>\n",
              "      <td>0.343411</td>\n",
              "      <td>0.166417</td>\n",
              "      <td>0.888833</td>\n",
              "      <td>0.862594</td>\n",
              "    </tr>\n",
              "    <tr>\n",
              "      <td>2</td>\n",
              "      <td>0.294800</td>\n",
              "      <td>0.338155</td>\n",
              "      <td>0.155667</td>\n",
              "      <td>0.891417</td>\n",
              "      <td>0.873527</td>\n",
              "    </tr>\n",
              "    <tr>\n",
              "      <td>3</td>\n",
              "      <td>0.241700</td>\n",
              "      <td>0.348786</td>\n",
              "      <td>0.155167</td>\n",
              "      <td>0.889000</td>\n",
              "      <td>0.878004</td>\n",
              "    </tr>\n",
              "  </tbody>\n",
              "</table><p>"
            ],
            "text/plain": [
              "<IPython.core.display.HTML object>"
            ]
          },
          "metadata": {},
          "output_type": "display_data"
        },
        {
          "data": {
            "text/plain": [
              "TrainOutput(global_step=4500, training_loss=0.3106612752278646, metrics={'train_runtime': 3926.8406, 'train_samples_per_second': 36.671, 'train_steps_per_second': 1.146, 'total_flos': 1.907632594944e+16, 'train_loss': 0.3106612752278646, 'epoch': 3.0})"
            ]
          },
          "execution_count": 18,
          "metadata": {},
          "output_type": "execute_result"
        }
      ],
      "source": [
        "# Define trainer\n",
        "trainer = Trainer(model=model, args=training_args,\n",
        "                  compute_metrics=compute_metrics,\n",
        "                  train_dataset=train_encoded[\"train\"],\n",
        "                  eval_dataset=valid_encoded[\"valid\"],\n",
        "                  tokenizer=tokenizer)\n",
        "\n",
        "# Train model\n",
        "trainer.train()"
      ]
    },
    {
      "cell_type": "markdown",
      "id": "c77b8449",
      "metadata": {
        "papermill": {
          "duration": 0.01155,
          "end_time": "2023-02-21T11:14:35.349452",
          "exception": false,
          "start_time": "2023-02-21T11:14:35.337902",
          "status": "completed"
        },
        "tags": [],
        "id": "c77b8449"
      },
      "source": [
        "**Evaluate**\n",
        "\n",
        "<br>\n",
        "\n",
        "Let's evaluate our model using the validation set."
      ]
    },
    {
      "cell_type": "code",
      "execution_count": null,
      "id": "343924ce",
      "metadata": {
        "execution": {
          "iopub.execute_input": "2023-02-21T11:14:35.374220Z",
          "iopub.status.busy": "2023-02-21T11:14:35.373418Z",
          "iopub.status.idle": "2023-02-21T11:15:48.686804Z",
          "shell.execute_reply": "2023-02-21T11:15:48.685932Z"
        },
        "papermill": {
          "duration": 73.327893,
          "end_time": "2023-02-21T11:15:48.688856",
          "exception": false,
          "start_time": "2023-02-21T11:14:35.360963",
          "status": "completed"
        },
        "tags": [],
        "id": "343924ce",
        "outputId": "bd13c104-2319-479f-86a3-1f3d9b72906a"
      },
      "outputs": [
        {
          "data": {
            "text/html": [
              "\n",
              "    <div>\n",
              "      \n",
              "      <progress value='1625' max='375' style='width:300px; height:20px; vertical-align: middle;'></progress>\n",
              "      [375/375 05:12]\n",
              "    </div>\n",
              "    "
            ],
            "text/plain": [
              "<IPython.core.display.HTML object>"
            ]
          },
          "metadata": {},
          "output_type": "display_data"
        }
      ],
      "source": [
        "# Predictions on validation set\n",
        "valid_preds = trainer.predict(valid_encoded[\"valid\"])\n",
        "valid_preds = np.argmax(valid_preds.predictions, axis=1)\n",
        "\n",
        "# Ground truth labels\n",
        "y_valid = np.array(valid_ds[\"valid\"][\"label\"])\n",
        "labels = train_ds[\"train\"].features[\"label\"].names"
      ]
    },
    {
      "cell_type": "code",
      "execution_count": null,
      "id": "4b47795a",
      "metadata": {
        "execution": {
          "iopub.execute_input": "2023-02-21T11:15:48.715343Z",
          "iopub.status.busy": "2023-02-21T11:15:48.713723Z",
          "iopub.status.idle": "2023-02-21T11:15:48.987546Z",
          "shell.execute_reply": "2023-02-21T11:15:48.986583Z"
        },
        "papermill": {
          "duration": 0.289016,
          "end_time": "2023-02-21T11:15:48.989964",
          "exception": false,
          "start_time": "2023-02-21T11:15:48.700948",
          "status": "completed"
        },
        "tags": [],
        "id": "4b47795a",
        "outputId": "a14569cb-c569-49e4-d170-d68826fd355d"
      },
      "outputs": [
        {
          "data": {
            "image/png": "[encoded data removed]",
            "text/plain": [
              "<Figure size 800x800 with 1 Axes>"
            ]
          },
          "metadata": {},
          "output_type": "display_data"
        }
      ],
      "source": [
        "# Plot confusion matrix\n",
        "def plot_confusion_matrix(y_preds, y_true, labels):\n",
        "    cm = confusion_matrix(y_true, y_preds, normalize=\"true\")\n",
        "    fig, ax = plt.subplots(figsize=(8, 8))\n",
        "    disp = ConfusionMatrixDisplay(confusion_matrix=cm, display_labels=labels)\n",
        "    disp.plot(cmap=\"Blues\", values_format=\".2f\", ax=ax, colorbar=False)\n",
        "    plt.title(\"Normalized confusion matrix\")\n",
        "    ax.grid(False)\n",
        "    plt.show()\n",
        "\n",
        "plot_confusion_matrix(valid_preds, y_valid, labels)"
      ]
    },
    {
      "cell_type": "markdown",
      "id": "7c15a9cc",
      "metadata": {
        "papermill": {
          "duration": 0.012427,
          "end_time": "2023-02-21T11:15:49.016269",
          "exception": false,
          "start_time": "2023-02-21T11:15:49.003842",
          "status": "completed"
        },
        "tags": [],
        "id": "7c15a9cc"
      },
      "source": [
        "**Test set predictions**\n",
        "\n",
        "<br>\n",
        "\n",
        "At the time of making this notebook, these predictions would put you in **1st place** of the competition. (I won't submit them since I am the host but feel free to do this yourself)."
      ]
    },
    {
      "cell_type": "code",
      "execution_count": null,
      "id": "aa8ad9c0",
      "metadata": {
        "execution": {
          "iopub.execute_input": "2023-02-21T11:15:49.042259Z",
          "iopub.status.busy": "2023-02-21T11:15:49.041964Z",
          "iopub.status.idle": "2023-02-21T11:19:48.436611Z",
          "shell.execute_reply": "2023-02-21T11:19:48.435730Z"
        },
        "papermill": {
          "duration": 239.410149,
          "end_time": "2023-02-21T11:19:48.438864",
          "exception": false,
          "start_time": "2023-02-21T11:15:49.028715",
          "status": "completed"
        },
        "tags": [],
        "id": "aa8ad9c0"
      },
      "outputs": [],
      "source": [
        "# Test set predictions\n",
        "preds = trainer.predict(test_encoded[\"test\"])\n",
        "test_preds = np.argmax(preds.predictions, axis=1)"
      ]
    },
    {
      "cell_type": "code",
      "execution_count": null,
      "id": "713d2553",
      "metadata": {
        "execution": {
          "iopub.execute_input": "2023-02-21T11:19:48.465661Z",
          "iopub.status.busy": "2023-02-21T11:19:48.465361Z",
          "iopub.status.idle": "2023-02-21T11:19:48.795526Z",
          "shell.execute_reply": "2023-02-21T11:19:48.794581Z"
        },
        "papermill": {
          "duration": 0.345976,
          "end_time": "2023-02-21T11:19:48.797829",
          "exception": false,
          "start_time": "2023-02-21T11:19:48.451853",
          "status": "completed"
        },
        "tags": [],
        "id": "713d2553",
        "outputId": "9007cbec-0801-4139-d964-346f1eb3d1ca"
      },
      "outputs": [
        {
          "data": {
            "image/png": "[encoded data removed]",
            "text/plain": [
              "<Figure size 1000x400 with 1 Axes>"
            ]
          },
          "metadata": {},
          "output_type": "display_data"
        }
      ],
      "source": [
        "# Distribution of predictions\n",
        "plt.figure(figsize=(10,4))\n",
        "sns.histplot(test_preds+1)\n",
        "plt.title(\"Distribution of final predictions\")\n",
        "plt.show()"
      ]
    },
    {
      "cell_type": "markdown",
      "id": "b6f6798c",
      "metadata": {
        "papermill": {
          "duration": 0.013474,
          "end_time": "2023-02-21T11:19:48.893618",
          "exception": false,
          "start_time": "2023-02-21T11:19:48.880144",
          "status": "completed"
        },
        "tags": [],
        "id": "b6f6798c"
      },
      "source": [
        "# 4. Conclusion\n",
        "\n",
        "<br>\n",
        "\n",
        "In this tenth and **final notebook** in the series, we explored everything to do with **transformers**. We discussed the theory, built one from scratch and fine-tuned a pre-trained model from Hugging Face.\n",
        "\n",
        "Transformers are having a **tremendous impact** on the way we live our lives even if we are not aware about all of it. From conversational AI like ChatGPT to Machine Translation and Cyber Security, we are experiencing the real-time impact of these powerful models. It is trully an **exciting time to be alive** so I hope these notebooks have helped you appreciate and start learning about the fascinating field of NLP."
      ]
    },
    {
      "cell_type": "markdown",
      "id": "335febca",
      "metadata": {
        "papermill": {
          "duration": 0.013436,
          "end_time": "2023-02-21T11:19:48.920337",
          "exception": false,
          "start_time": "2023-02-21T11:19:48.906901",
          "status": "completed"
        },
        "tags": [],
        "id": "335febca"
      },
      "source": [
        "**References:**\n",
        "* [NLP demystified](https://www.nlpdemystified.org/)\n",
        "* [Natural Language Processing with Transformers](https://transformersbook.com/)"
      ]
    },
    {
      "cell_type": "markdown",
      "id": "aaf5d0b5",
      "metadata": {
        "papermill": {
          "duration": 0.012928,
          "end_time": "2023-02-21T11:19:48.946577",
          "exception": false,
          "start_time": "2023-02-21T11:19:48.933649",
          "status": "completed"
        },
        "tags": [],
        "id": "aaf5d0b5"
      },
      "source": [
        "Thanks for reading!"
      ]
    }
  ],
  "metadata": {
    "kernelspec": {
      "display_name": "Python 3",
      "language": "python",
      "name": "python3"
    },
    "language_info": {
      "codemirror_mode": {
        "name": "ipython",
        "version": 3
      },
      "file_extension": ".py",
      "mimetype": "text/x-python",
      "name": "python",
      "nbconvert_exporter": "python",
      "pygments_lexer": "ipython3",
      "version": "3.7.12"
    },
    "papermill": {
      "default_parameters": {},
      "duration": 4320.969324,
      "end_time": "2023-02-21T11:19:51.836001",
      "environment_variables": {},
      "exception": null,
      "input_path": "__notebook__.ipynb",
      "output_path": "__notebook__.ipynb",
      "parameters": {},
      "start_time": "2023-02-21T10:07:50.866677",
      "version": "2.3.4"
    },
    "colab": {
      "provenance": [],
      "include_colab_link": true
    }
  },
  "nbformat": 4,
  "nbformat_minor": 5
}